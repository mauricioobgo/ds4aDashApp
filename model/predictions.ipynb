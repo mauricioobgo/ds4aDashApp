{
 "cells": [
  {
   "cell_type": "markdown",
   "metadata": {},
   "source": [
    "## Libraries"
   ]
  },
  {
   "cell_type": "code",
   "execution_count": 1,
   "metadata": {},
   "outputs": [],
   "source": [
    "import functions as f\n",
    "import warnings\n",
    "warnings.filterwarnings('ignore')"
   ]
  },
  {
   "cell_type": "markdown",
   "metadata": {},
   "source": [
    "# Prediction with user inputs"
   ]
  },
  {
   "cell_type": "markdown",
   "metadata": {},
   "source": [
    "input0 = qué variable predictora? (area_cultivada (h), producción (t), o rendimiento(t/h) )  \n",
    "input1 = area_seeded  \n",
    "input2_1 = dept  \n",
    "input2_2 = group  \n",
    "  \n",
    "input2_1 → output_best_groups = dataframe[\"group\",\"variable a maximizar\"] → ordenado de mayor a menor  \n",
    "input2_2 → output_best_depts = dataframe[\"dept\",\"variable a maximizar\"] → ordenado de mayor a menor  "
   ]
  },
  {
   "cell_type": "code",
   "execution_count": 2,
   "metadata": {},
   "outputs": [],
   "source": [
    "available_departments = ['amazonas', 'antioquia', 'arauca', 'atlantico', 'bolivar', 'boyaca', 'caldas', 'caqueta', 'casanare', 'cauca', 'cesar', 'choco', 'cordoba',\n",
    " 'cundinamarca', 'guainia', 'guaviare', 'huila', 'la guajira', 'magdalena', 'meta', 'narino', 'norte de santander', 'putumayo', 'quindio', 'risaralda',\n",
    "  'san andres y providencia', 'santander', 'sucre', 'tolima', 'valle del cauca', 'vaupes', 'vichada']\n",
    "available_groups = ['cereales', 'fibras', 'flores y follajes', 'forestales', 'frutales', 'hongos', 'hortalizas', 'leguminosas', 'oleaginosas',\n",
    " 'otros permanentes', 'otros transitorios', 'plantas aromaticas, condimentarias y medicinales', 'tuberculos y platanos']"
   ]
  },
  {
   "cell_type": "code",
   "execution_count": 5,
   "metadata": {},
   "outputs": [],
   "source": [
    "input0 = [\"area_harvested_model\", \"production_model\", \"yield_model\"][0]\n",
    "input1 = 10\n",
    "#input2_1 = \"atlantico\" #→ drop list\n",
    "input2_2 = \"hortalizas\" #hortalizas → drop list"
   ]
  },
  {
   "cell_type": "code",
   "execution_count": 6,
   "metadata": {},
   "outputs": [
    {
     "name": "stdout",
     "output_type": "stream",
     "text": [
      "Maximizing for the best departments: area_harvested_model selected group: hortalizas for a area seeded of: 10\n"
     ]
    },
    {
     "data": {
      "text/html": [
       "<div>\n",
       "<style scoped>\n",
       "    .dataframe tbody tr th:only-of-type {\n",
       "        vertical-align: middle;\n",
       "    }\n",
       "\n",
       "    .dataframe tbody tr th {\n",
       "        vertical-align: top;\n",
       "    }\n",
       "\n",
       "    .dataframe thead th {\n",
       "        text-align: right;\n",
       "    }\n",
       "</style>\n",
       "<table border=\"1\" class=\"dataframe\">\n",
       "  <thead>\n",
       "    <tr style=\"text-align: right;\">\n",
       "      <th></th>\n",
       "      <th>Department</th>\n",
       "      <th>Prediction</th>\n",
       "    </tr>\n",
       "  </thead>\n",
       "  <tbody>\n",
       "    <tr>\n",
       "      <th>15</th>\n",
       "      <td>guaviare</td>\n",
       "      <td>140.957623</td>\n",
       "    </tr>\n",
       "    <tr>\n",
       "      <th>3</th>\n",
       "      <td>atlantico</td>\n",
       "      <td>60.479090</td>\n",
       "    </tr>\n",
       "    <tr>\n",
       "      <th>5</th>\n",
       "      <td>boyaca</td>\n",
       "      <td>22.240857</td>\n",
       "    </tr>\n",
       "    <tr>\n",
       "      <th>8</th>\n",
       "      <td>casanare</td>\n",
       "      <td>16.200286</td>\n",
       "    </tr>\n",
       "    <tr>\n",
       "      <th>14</th>\n",
       "      <td>guainia</td>\n",
       "      <td>14.236155</td>\n",
       "    </tr>\n",
       "    <tr>\n",
       "      <th>2</th>\n",
       "      <td>arauca</td>\n",
       "      <td>5.395957</td>\n",
       "    </tr>\n",
       "    <tr>\n",
       "      <th>13</th>\n",
       "      <td>cundinamarca</td>\n",
       "      <td>3.343038</td>\n",
       "    </tr>\n",
       "    <tr>\n",
       "      <th>18</th>\n",
       "      <td>magdalena</td>\n",
       "      <td>2.488564</td>\n",
       "    </tr>\n",
       "    <tr>\n",
       "      <th>28</th>\n",
       "      <td>tolima</td>\n",
       "      <td>1.173286</td>\n",
       "    </tr>\n",
       "    <tr>\n",
       "      <th>0</th>\n",
       "      <td>amazonas</td>\n",
       "      <td>0.000000</td>\n",
       "    </tr>\n",
       "  </tbody>\n",
       "</table>\n",
       "</div>"
      ],
      "text/plain": [
       "      Department  Prediction\n",
       "15      guaviare  140.957623\n",
       "3      atlantico   60.479090\n",
       "5         boyaca   22.240857\n",
       "8       casanare   16.200286\n",
       "14       guainia   14.236155\n",
       "2         arauca    5.395957\n",
       "13  cundinamarca    3.343038\n",
       "18     magdalena    2.488564\n",
       "28        tolima    1.173286\n",
       "0       amazonas    0.000000"
      ]
     },
     "execution_count": 6,
     "metadata": {},
     "output_type": "execute_result"
    }
   ],
   "source": [
    "print(\"Maximizing for the best departments:\",input0, \"selected group:\", input2_2, \"for a area seeded of:\", input1)\n",
    "f.predict_depts(input1, input2_2, input0).head(10)"
   ]
  },
  {
   "cell_type": "code",
   "execution_count": 4,
   "metadata": {},
   "outputs": [
    {
     "name": "stdout",
     "output_type": "stream",
     "text": [
      "Maximizing for the best groups: area_harvested_model | selected department: atlantico | for a area seeded of: 10\n"
     ]
    },
    {
     "data": {
      "text/html": [
       "<div>\n",
       "<style scoped>\n",
       "    .dataframe tbody tr th:only-of-type {\n",
       "        vertical-align: middle;\n",
       "    }\n",
       "\n",
       "    .dataframe tbody tr th {\n",
       "        vertical-align: top;\n",
       "    }\n",
       "\n",
       "    .dataframe thead th {\n",
       "        text-align: right;\n",
       "    }\n",
       "</style>\n",
       "<table border=\"1\" class=\"dataframe\">\n",
       "  <thead>\n",
       "    <tr style=\"text-align: right;\">\n",
       "      <th></th>\n",
       "      <th>Group</th>\n",
       "      <th>Prediction</th>\n",
       "    </tr>\n",
       "  </thead>\n",
       "  <tbody>\n",
       "    <tr>\n",
       "      <th>9</th>\n",
       "      <td>otros permanentes</td>\n",
       "      <td>156.573673</td>\n",
       "    </tr>\n",
       "    <tr>\n",
       "      <th>10</th>\n",
       "      <td>otros transitorios</td>\n",
       "      <td>94.061934</td>\n",
       "    </tr>\n",
       "    <tr>\n",
       "      <th>2</th>\n",
       "      <td>flores y follajes</td>\n",
       "      <td>93.845273</td>\n",
       "    </tr>\n",
       "    <tr>\n",
       "      <th>0</th>\n",
       "      <td>cereales</td>\n",
       "      <td>88.483018</td>\n",
       "    </tr>\n",
       "    <tr>\n",
       "      <th>4</th>\n",
       "      <td>frutales</td>\n",
       "      <td>85.230977</td>\n",
       "    </tr>\n",
       "    <tr>\n",
       "      <th>12</th>\n",
       "      <td>tuberculos y platanos</td>\n",
       "      <td>70.944791</td>\n",
       "    </tr>\n",
       "    <tr>\n",
       "      <th>5</th>\n",
       "      <td>hongos</td>\n",
       "      <td>65.246212</td>\n",
       "    </tr>\n",
       "    <tr>\n",
       "      <th>1</th>\n",
       "      <td>fibras</td>\n",
       "      <td>64.573310</td>\n",
       "    </tr>\n",
       "    <tr>\n",
       "      <th>6</th>\n",
       "      <td>hortalizas</td>\n",
       "      <td>60.479090</td>\n",
       "    </tr>\n",
       "    <tr>\n",
       "      <th>11</th>\n",
       "      <td>plantas aromaticas, condimentarias y medicinales</td>\n",
       "      <td>57.201469</td>\n",
       "    </tr>\n",
       "  </tbody>\n",
       "</table>\n",
       "</div>"
      ],
      "text/plain": [
       "                                               Group  Prediction\n",
       "9                                  otros permanentes  156.573673\n",
       "10                                otros transitorios   94.061934\n",
       "2                                  flores y follajes   93.845273\n",
       "0                                           cereales   88.483018\n",
       "4                                           frutales   85.230977\n",
       "12                             tuberculos y platanos   70.944791\n",
       "5                                             hongos   65.246212\n",
       "1                                             fibras   64.573310\n",
       "6                                         hortalizas   60.479090\n",
       "11  plantas aromaticas, condimentarias y medicinales   57.201469"
      ]
     },
     "execution_count": 4,
     "metadata": {},
     "output_type": "execute_result"
    }
   ],
   "source": [
    "print(\"Maximizing for the best groups:\",input0, \"| selected department:\", input2_1, \"| for a area seeded of:\", input1)\n",
    "f.predict_groups(input1, input2_1, input0).head(10)"
   ]
  }
 ],
 "metadata": {
  "kernelspec": {
   "display_name": "Anaconda 3",
   "language": "python",
   "name": "anac"
  },
  "language_info": {
   "codemirror_mode": {
    "name": "ipython",
    "version": 3
   },
   "file_extension": ".py",
   "mimetype": "text/x-python",
   "name": "python",
   "nbconvert_exporter": "python",
   "pygments_lexer": "ipython3",
   "version": "3.10.0"
  },
  "orig_nbformat": 4
 },
 "nbformat": 4,
 "nbformat_minor": 2
}
