{
 "cells": [
  {
   "cell_type": "code",
   "execution_count": 2,
   "metadata": {},
   "outputs": [],
   "source": [
    "import pandas as pd\n",
    "import pickle\n",
    "import pmdarima\n",
    "import numpy as np"
   ]
  },
  {
   "cell_type": "code",
   "execution_count": 3,
   "metadata": {},
   "outputs": [],
   "source": [
    "eva = pd.read_csv('./data/EVA_2006_2020_clean.csv')"
   ]
  },
  {
   "cell_type": "code",
   "execution_count": 3,
   "metadata": {},
   "outputs": [
    {
     "data": {
      "text/html": [
       "<div>\n",
       "<style scoped>\n",
       "    .dataframe tbody tr th:only-of-type {\n",
       "        vertical-align: middle;\n",
       "    }\n",
       "\n",
       "    .dataframe tbody tr th {\n",
       "        vertical-align: top;\n",
       "    }\n",
       "\n",
       "    .dataframe thead th {\n",
       "        text-align: right;\n",
       "    }\n",
       "</style>\n",
       "<table border=\"1\" class=\"dataframe\">\n",
       "  <thead>\n",
       "    <tr style=\"text-align: right;\">\n",
       "      <th></th>\n",
       "      <th>dept_code</th>\n",
       "      <th>dept</th>\n",
       "      <th>mun_code</th>\n",
       "      <th>mun</th>\n",
       "      <th>group</th>\n",
       "      <th>subgroup</th>\n",
       "      <th>crop</th>\n",
       "      <th>year</th>\n",
       "      <th>period</th>\n",
       "      <th>area_seeded</th>\n",
       "      <th>area_harvested</th>\n",
       "      <th>production</th>\n",
       "      <th>yield_</th>\n",
       "      <th>production_status</th>\n",
       "      <th>scientific_name</th>\n",
       "      <th>cycle</th>\n",
       "    </tr>\n",
       "  </thead>\n",
       "  <tbody>\n",
       "    <tr>\n",
       "      <th>0</th>\n",
       "      <td>15</td>\n",
       "      <td>boyaca</td>\n",
       "      <td>15114</td>\n",
       "      <td>busbanza</td>\n",
       "      <td>hortalizas</td>\n",
       "      <td>acelga</td>\n",
       "      <td>acelga</td>\n",
       "      <td>2006</td>\n",
       "      <td>2006B</td>\n",
       "      <td>2.0</td>\n",
       "      <td>1.0</td>\n",
       "      <td>1.0</td>\n",
       "      <td>1.0</td>\n",
       "      <td>fruto fresco</td>\n",
       "      <td>beta vulgaris</td>\n",
       "      <td>transitorio</td>\n",
       "    </tr>\n",
       "    <tr>\n",
       "      <th>1</th>\n",
       "      <td>25</td>\n",
       "      <td>cundinamarca</td>\n",
       "      <td>25754</td>\n",
       "      <td>soacha</td>\n",
       "      <td>hortalizas</td>\n",
       "      <td>acelga</td>\n",
       "      <td>acelga</td>\n",
       "      <td>2006</td>\n",
       "      <td>2006B</td>\n",
       "      <td>82.0</td>\n",
       "      <td>80.0</td>\n",
       "      <td>1440.0</td>\n",
       "      <td>18.0</td>\n",
       "      <td>fruto fresco</td>\n",
       "      <td>beta vulgaris</td>\n",
       "      <td>transitorio</td>\n",
       "    </tr>\n",
       "    <tr>\n",
       "      <th>2</th>\n",
       "      <td>25</td>\n",
       "      <td>cundinamarca</td>\n",
       "      <td>25214</td>\n",
       "      <td>cota</td>\n",
       "      <td>hortalizas</td>\n",
       "      <td>acelga</td>\n",
       "      <td>acelga</td>\n",
       "      <td>2006</td>\n",
       "      <td>2006B</td>\n",
       "      <td>2.0</td>\n",
       "      <td>2.0</td>\n",
       "      <td>26.0</td>\n",
       "      <td>13.0</td>\n",
       "      <td>fruto fresco</td>\n",
       "      <td>beta vulgaris</td>\n",
       "      <td>transitorio</td>\n",
       "    </tr>\n",
       "    <tr>\n",
       "      <th>3</th>\n",
       "      <td>54</td>\n",
       "      <td>norte de santander</td>\n",
       "      <td>54405</td>\n",
       "      <td>los patios</td>\n",
       "      <td>hortalizas</td>\n",
       "      <td>acelga</td>\n",
       "      <td>acelga</td>\n",
       "      <td>2006</td>\n",
       "      <td>2006B</td>\n",
       "      <td>3.0</td>\n",
       "      <td>3.0</td>\n",
       "      <td>48.0</td>\n",
       "      <td>16.0</td>\n",
       "      <td>fruto fresco</td>\n",
       "      <td>beta vulgaris</td>\n",
       "      <td>transitorio</td>\n",
       "    </tr>\n",
       "    <tr>\n",
       "      <th>4</th>\n",
       "      <td>54</td>\n",
       "      <td>norte de santander</td>\n",
       "      <td>54518</td>\n",
       "      <td>pamplona</td>\n",
       "      <td>hortalizas</td>\n",
       "      <td>acelga</td>\n",
       "      <td>acelga</td>\n",
       "      <td>2006</td>\n",
       "      <td>2006B</td>\n",
       "      <td>1.0</td>\n",
       "      <td>1.0</td>\n",
       "      <td>5.0</td>\n",
       "      <td>5.0</td>\n",
       "      <td>fruto fresco</td>\n",
       "      <td>beta vulgaris</td>\n",
       "      <td>transitorio</td>\n",
       "    </tr>\n",
       "  </tbody>\n",
       "</table>\n",
       "</div>"
      ],
      "text/plain": [
       "   dept_code                dept  mun_code         mun       group subgroup  \\\n",
       "0         15              boyaca     15114    busbanza  hortalizas   acelga   \n",
       "1         25        cundinamarca     25754      soacha  hortalizas   acelga   \n",
       "2         25        cundinamarca     25214        cota  hortalizas   acelga   \n",
       "3         54  norte de santander     54405  los patios  hortalizas   acelga   \n",
       "4         54  norte de santander     54518    pamplona  hortalizas   acelga   \n",
       "\n",
       "     crop  year period  area_seeded  area_harvested  production  yield_  \\\n",
       "0  acelga  2006  2006B          2.0             1.0         1.0     1.0   \n",
       "1  acelga  2006  2006B         82.0            80.0      1440.0    18.0   \n",
       "2  acelga  2006  2006B          2.0             2.0        26.0    13.0   \n",
       "3  acelga  2006  2006B          3.0             3.0        48.0    16.0   \n",
       "4  acelga  2006  2006B          1.0             1.0         5.0     5.0   \n",
       "\n",
       "  production_status scientific_name        cycle  \n",
       "0      fruto fresco   beta vulgaris  transitorio  \n",
       "1      fruto fresco   beta vulgaris  transitorio  \n",
       "2      fruto fresco   beta vulgaris  transitorio  \n",
       "3      fruto fresco   beta vulgaris  transitorio  \n",
       "4      fruto fresco   beta vulgaris  transitorio  "
      ]
     },
     "execution_count": 3,
     "metadata": {},
     "output_type": "execute_result"
    }
   ],
   "source": [
    "eva.head()"
   ]
  },
  {
   "cell_type": "markdown",
   "metadata": {},
   "source": [
    "# Training ARIMAX"
   ]
  },
  {
   "cell_type": "code",
   "execution_count": 4,
   "metadata": {},
   "outputs": [],
   "source": [
    "df_ts = eva.set_index(\"year\",drop=False)"
   ]
  },
  {
   "cell_type": "code",
   "execution_count": 5,
   "metadata": {},
   "outputs": [],
   "source": [
    "df_train = df_ts[df_ts.year < 2019]\n",
    "df_valid = df_ts[df_ts.year >= 2019]"
   ]
  },
  {
   "cell_type": "code",
   "execution_count": 26,
   "metadata": {},
   "outputs": [],
   "source": [
    "df_train_dummies = pd.get_dummies(df_train, columns= ['dept', 'group'], drop_first = False)\n",
    "df_valid_dummies = pd.get_dummies(df_valid, columns= ['dept', 'group'], drop_first = False)"
   ]
  },
  {
   "cell_type": "code",
   "execution_count": 27,
   "metadata": {},
   "outputs": [],
   "source": [
    "exogenous_features = ['area_seeded']\n",
    "for i in df_train_dummies.columns:\n",
    "    if (\"group\" in i) or (\"dept\" in i):\n",
    "        exogenous_features.append(i)\n",
    "exogenous_features.remove('subgroup')"
   ]
  },
  {
   "cell_type": "code",
   "execution_count": 8,
   "metadata": {},
   "outputs": [
    {
     "name": "stdout",
     "output_type": "stream",
     "text": [
      "['area_seeded', 'dept_code', 'dept_amazonas', 'dept_antioquia', 'dept_arauca', 'dept_atlantico', 'dept_bolivar', 'dept_boyaca', 'dept_caldas', 'dept_caqueta', 'dept_casanare', 'dept_cauca', 'dept_cesar', 'dept_choco', 'dept_cordoba', 'dept_cundinamarca', 'dept_guainia', 'dept_guaviare', 'dept_huila', 'dept_la guajira', 'dept_magdalena', 'dept_meta', 'dept_narino', 'dept_norte de santander', 'dept_putumayo', 'dept_quindio', 'dept_risaralda', 'dept_san andres y providencia', 'dept_santander', 'dept_sucre', 'dept_tolima', 'dept_valle del cauca', 'dept_vaupes', 'dept_vichada', 'group_cereales', 'group_fibras', 'group_flores y follajes', 'group_forestales', 'group_frutales', 'group_hongos', 'group_hortalizas', 'group_leguminosas', 'group_oleaginosas', 'group_otros permanentes', 'group_otros transitorios', 'group_plantas aromaticas, condimentarias y medicinales', 'group_tuberculos y platanos']\n",
      "47\n"
     ]
    }
   ],
   "source": [
    "print(exogenous_features)\n",
    "print(len(exogenous_features))"
   ]
  },
  {
   "cell_type": "code",
   "execution_count": 9,
   "metadata": {},
   "outputs": [
    {
     "name": "stdout",
     "output_type": "stream",
     "text": [
      "Performing stepwise search to minimize aic\n",
      " ARIMA(2,1,2)(0,0,0)[0] intercept   : AIC=inf, Time=966.02 sec\n",
      " ARIMA(0,1,0)(0,0,0)[0] intercept   : AIC=2860011.943, Time=226.47 sec\n",
      " ARIMA(1,1,0)(0,0,0)[0] intercept   : AIC=2819947.040, Time=229.50 sec\n",
      " ARIMA(0,1,1)(0,0,0)[0] intercept   : AIC=2774239.045, Time=504.89 sec\n",
      " ARIMA(0,1,0)(0,0,0)[0]             : AIC=5175370.819, Time=36.62 sec\n",
      " ARIMA(1,1,1)(0,0,0)[0] intercept   : AIC=inf, Time=4002.80 sec\n",
      " ARIMA(0,1,2)(0,0,0)[0] intercept   : AIC=2766105.654, Time=841.39 sec\n",
      " ARIMA(1,1,2)(0,0,0)[0] intercept   : AIC=2763119.935, Time=928.66 sec\n",
      " ARIMA(1,1,3)(0,0,0)[0] intercept   : AIC=inf, Time=1046.84 sec\n",
      " ARIMA(0,1,3)(0,0,0)[0] intercept   : AIC=2764578.960, Time=997.51 sec\n",
      " ARIMA(2,1,1)(0,0,0)[0] intercept   : AIC=inf, Time=909.48 sec\n",
      " ARIMA(2,1,3)(0,0,0)[0] intercept   : AIC=inf, Time=1068.44 sec\n",
      " ARIMA(1,1,2)(0,0,0)[0]             : AIC=inf, Time=881.21 sec\n",
      "\n",
      "Best model:  ARIMA(1,1,2)(0,0,0)[0] intercept\n",
      "Total fit time: 12640.482 seconds\n"
     ]
    }
   ],
   "source": [
    "# 1. area_harvested_model training\n",
    "area_harvested_model = pmdarima.auto_arima(df_train_dummies.area_harvested, exogenous=df_train_dummies[exogenous_features], trace=True, error_action=\"ignore\", suppress_warnings=True)\n",
    "area_harvested_model.fit(df_train_dummies.area_harvested, exogenous=df_train_dummies[exogenous_features])\n",
    "pickle.dump(area_harvested_model, open('./models/area_harvested_model.pickle', 'wb'))"
   ]
  },
  {
   "cell_type": "code",
   "execution_count": 37,
   "metadata": {},
   "outputs": [
    {
     "name": "stdout",
     "output_type": "stream",
     "text": [
      "Performing stepwise search to minimize aic\n",
      " ARIMA(2,0,2)(0,0,0)[0] intercept   : AIC=4822273.207, Time=689.36 sec\n",
      " ARIMA(0,0,0)(0,0,0)[0] intercept   : AIC=4951286.119, Time=31.53 sec\n",
      " ARIMA(1,0,0)(0,0,0)[0] intercept   : AIC=4833759.982, Time=102.33 sec\n",
      " ARIMA(0,0,1)(0,0,0)[0] intercept   : AIC=4877534.975, Time=207.74 sec\n",
      " ARIMA(0,0,0)(0,0,0)[0]             : AIC=7266657.231, Time=31.83 sec\n",
      " ARIMA(1,0,2)(0,0,0)[0] intercept   : AIC=4828720.418, Time=390.15 sec\n",
      " ARIMA(2,0,1)(0,0,0)[0] intercept   : AIC=4822508.362, Time=512.47 sec\n",
      " ARIMA(3,0,2)(0,0,0)[0] intercept   : AIC=inf, Time=950.49 sec\n",
      " ARIMA(2,0,3)(0,0,0)[0] intercept   : AIC=4822184.518, Time=1098.95 sec\n",
      " ARIMA(1,0,3)(0,0,0)[0] intercept   : AIC=4824981.842, Time=546.50 sec\n",
      " ARIMA(3,0,3)(0,0,0)[0] intercept   : AIC=inf, Time=1015.24 sec\n",
      " ARIMA(2,0,4)(0,0,0)[0] intercept   : AIC=4824744.836, Time=814.10 sec\n",
      " ARIMA(1,0,4)(0,0,0)[0] intercept   : AIC=4824030.758, Time=709.82 sec\n",
      " ARIMA(3,0,4)(0,0,0)[0] intercept   : AIC=inf, Time=1026.16 sec\n",
      " ARIMA(2,0,3)(0,0,0)[0]             : AIC=4822182.557, Time=908.38 sec\n",
      " ARIMA(1,0,3)(0,0,0)[0]             : AIC=4824979.840, Time=490.99 sec\n",
      " ARIMA(2,0,2)(0,0,0)[0]             : AIC=4822271.222, Time=670.02 sec\n",
      " ARIMA(3,0,3)(0,0,0)[0]             : AIC=inf, Time=958.75 sec\n",
      " ARIMA(2,0,4)(0,0,0)[0]             : AIC=4824742.837, Time=789.58 sec\n",
      " ARIMA(1,0,2)(0,0,0)[0]             : AIC=4828718.417, Time=354.22 sec\n",
      " ARIMA(1,0,4)(0,0,0)[0]             : AIC=4824028.762, Time=718.47 sec\n",
      " ARIMA(3,0,2)(0,0,0)[0]             : AIC=inf, Time=879.64 sec\n",
      " ARIMA(3,0,4)(0,0,0)[0]             : AIC=inf, Time=1016.00 sec\n",
      "\n",
      "Best model:  ARIMA(2,0,3)(0,0,0)[0]          \n",
      "Total fit time: 14913.237 seconds\n"
     ]
    }
   ],
   "source": [
    "# 2. production_model training\n",
    "production_model = pmdarima.auto_arima(df_train_dummies.production, exogenous=df_train_dummies[exogenous_features], trace=True, error_action=\"ignore\", suppress_warnings=True)\n",
    "production_model.fit(df_train_dummies.production, exogenous=df_train_dummies[exogenous_features])\n",
    "pickle.dump(production_model, open('./models/production_model.pickle', 'wb'))"
   ]
  },
  {
   "cell_type": "code",
   "execution_count": 34,
   "metadata": {},
   "outputs": [],
   "source": [
    "df_train_dummies.replace([np.inf, -np.inf], np.nan, inplace=True)\n",
    "df_train_dummies.fillna(0, inplace=True)"
   ]
  },
  {
   "cell_type": "code",
   "execution_count": 35,
   "metadata": {},
   "outputs": [],
   "source": [
    "df_valid_dummies.replace([np.inf, -np.inf], np.nan, inplace=True)\n",
    "df_valid_dummies.fillna(0, inplace=True)"
   ]
  },
  {
   "cell_type": "code",
   "execution_count": 36,
   "metadata": {},
   "outputs": [
    {
     "name": "stdout",
     "output_type": "stream",
     "text": [
      "Performing stepwise search to minimize aic\n",
      " ARIMA(2,1,2)(0,0,0)[0] intercept   : AIC=1450663.682, Time=910.22 sec\n",
      " ARIMA(0,1,0)(0,0,0)[0] intercept   : AIC=1537450.217, Time=211.39 sec\n",
      " ARIMA(1,1,0)(0,0,0)[0] intercept   : AIC=1492214.292, Time=283.79 sec\n",
      " ARIMA(0,1,1)(0,0,0)[0] intercept   : AIC=1454132.017, Time=881.74 sec\n",
      " ARIMA(0,1,0)(0,0,0)[0]             : AIC=1537451.934, Time=1159.94 sec\n",
      " ARIMA(1,1,2)(0,0,0)[0] intercept   : AIC=1453917.737, Time=829.58 sec\n",
      " ARIMA(2,1,1)(0,0,0)[0] intercept   : AIC=1449262.023, Time=766.77 sec\n",
      " ARIMA(1,1,1)(0,0,0)[0] intercept   : AIC=1450934.038, Time=695.09 sec\n",
      " ARIMA(2,1,0)(0,0,0)[0] intercept   : AIC=1475575.287, Time=666.93 sec\n",
      " ARIMA(3,1,1)(0,0,0)[0] intercept   : AIC=1448608.735, Time=974.40 sec\n",
      " ARIMA(3,1,0)(0,0,0)[0] intercept   : AIC=1467894.368, Time=592.28 sec\n",
      " ARIMA(4,1,1)(0,0,0)[0] intercept   : AIC=1451384.697, Time=1068.73 sec\n",
      " ARIMA(3,1,2)(0,0,0)[0] intercept   : AIC=1449252.983, Time=991.00 sec\n",
      " ARIMA(4,1,0)(0,0,0)[0] intercept   : AIC=1463260.469, Time=700.61 sec\n",
      " ARIMA(4,1,2)(0,0,0)[0] intercept   : AIC=1448646.505, Time=1201.63 sec\n",
      " ARIMA(3,1,1)(0,0,0)[0]             : AIC=1448350.223, Time=1025.73 sec\n",
      " ARIMA(2,1,1)(0,0,0)[0]             : AIC=1449260.026, Time=770.46 sec\n",
      " ARIMA(3,1,0)(0,0,0)[0]             : AIC=1467892.355, Time=711.74 sec\n",
      " ARIMA(4,1,1)(0,0,0)[0]             : AIC=1447939.021, Time=1070.70 sec\n",
      " ARIMA(4,1,0)(0,0,0)[0]             : AIC=1463258.469, Time=688.55 sec\n",
      " ARIMA(5,1,1)(0,0,0)[0]             : AIC=1449237.462, Time=1194.17 sec\n",
      " ARIMA(4,1,2)(0,0,0)[0]             : AIC=1448646.534, Time=1171.90 sec\n",
      " ARIMA(3,1,2)(0,0,0)[0]             : AIC=1449253.126, Time=1040.85 sec\n",
      " ARIMA(5,1,0)(0,0,0)[0]             : AIC=1460817.742, Time=1458.66 sec\n",
      " ARIMA(5,1,2)(0,0,0)[0]             : AIC=1448028.330, Time=1363.50 sec\n",
      "\n",
      "Best model:  ARIMA(4,1,1)(0,0,0)[0]          \n",
      "Total fit time: 22430.828 seconds\n"
     ]
    }
   ],
   "source": [
    "# 3. yield_model training\n",
    "yield_model = pmdarima.auto_arima(df_train_dummies.yield_, exogenous=df_train_dummies[exogenous_features], trace=True, error_action=\"ignore\", suppress_warnings=True)\n",
    "yield_model.fit(df_train_dummies.yield_, exogenous=df_train_dummies[exogenous_features])\n",
    "pickle.dump(yield_model, open('./models/yield_model.pickle', 'wb'))"
   ]
  }
 ],
 "metadata": {
  "kernelspec": {
   "display_name": "Anaconda 3",
   "language": "python",
   "name": "anac"
  },
  "language_info": {
   "codemirror_mode": {
    "name": "ipython",
    "version": 3
   },
   "file_extension": ".py",
   "mimetype": "text/x-python",
   "name": "python",
   "nbconvert_exporter": "python",
   "pygments_lexer": "ipython3",
   "version": "3.10.0"
  },
  "orig_nbformat": 4
 },
 "nbformat": 4,
 "nbformat_minor": 2
}
